{
  "nbformat": 4,
  "nbformat_minor": 0,
  "metadata": {
    "colab": {
      "name": "GA_AI",
      "provenance": [],
      "collapsed_sections": [],
      "include_colab_link": true
    },
    "kernelspec": {
      "name": "python3",
      "display_name": "Python 3"
    },
    "language_info": {
      "name": "python"
    }
  },
  "cells": [
    {
      "cell_type": "markdown",
      "metadata": {
        "id": "view-in-github",
        "colab_type": "text"
      },
      "source": [
        "<a href=\"https://colab.research.google.com/github/ks-dhiya/github-slideshow/blob/master/GA_AI.ipynb\" target=\"_parent\"><img src=\"https://colab.research.google.com/assets/colab-badge.svg\" alt=\"Open In Colab\"/></a>"
      ]
    },
    {
      "cell_type": "markdown",
      "metadata": {
        "id": "i21jyTHqntlv"
      },
      "source": [
        "library"
      ]
    },
    {
      "cell_type": "code",
      "metadata": {
        "id": "35wrJ-6-tU85"
      },
      "source": [
        "import random\n",
        "import math"
      ],
      "execution_count": 48,
      "outputs": []
    },
    {
      "cell_type": "markdown",
      "metadata": {
        "id": "yZDUIgR-n3_d"
      },
      "source": [
        "fungsi global"
      ]
    },
    {
      "cell_type": "code",
      "metadata": {
        "id": "lllVJTCBw_zQ"
      },
      "source": [
        "def h(x, y):\n",
        "  return math.cos(x**2) * math.sin(y**2) + (x + y);"
      ],
      "execution_count": 49,
      "outputs": []
    },
    {
      "cell_type": "markdown",
      "metadata": {
        "id": "cJxWHJ13oA4P"
      },
      "source": [
        "defenisi batasan batasan x dan y"
      ]
    },
    {
      "cell_type": "code",
      "metadata": {
        "id": "mGX1Uk_-xxTy"
      },
      "source": [
        "LOWER_X = -1\n",
        "UPPER_X = 2\n",
        "LOWER_Y = -1\n",
        "UPPER_Y = 1"
      ],
      "execution_count": 50,
      "outputs": []
    },
    {
      "cell_type": "markdown",
      "metadata": {
        "id": "SK2pE04HoTZE"
      },
      "source": [
        "GA langkah 1 : membuat chromosom menggunakan pendekatan oop"
      ]
    },
    {
      "cell_type": "code",
      "metadata": {
        "id": "rTplhF5eyOml",
        "colab": {
          "base_uri": "https://localhost:8080/",
          "height": 35
        },
        "outputId": "d68c1bea-895a-43b5-b16a-1b0298ba4cef"
      },
      "source": [
        "class Chromosome:\n",
        "  def __init__(self,  bit = None):\n",
        "    if bit == None:\n",
        "      self.bit = random.choices([0,1], k=10)\n",
        "    else:\n",
        "      self.bit = bit\n",
        "    self.x = self.encoding(UPPER_X, LOWER_X, self.bit[:5])\n",
        "    self.y = self.encoding(UPPER_Y, LOWER_Y, self.bit[5:])\n",
        "     \n",
        "  def __repr__(self):\n",
        "    return '{} ({}, {})'.format(self.bit, self.x, self.y, h(self.x, self.y))\n",
        "\n",
        "  def encoding(self, ra, rb, g):\n",
        "    tp = [2**-i for i in range(1, len(g)+1)]\n",
        "    return rb + ((ra - rb) / sum(tp) * sum([g[i] * tp[i] for i in range(len(g))]))\n",
        "\n",
        "'''\n",
        "test = Chromosome()\n",
        "print(test.bit)\n",
        "print(test.x)\n",
        "print(test.y)\n",
        "'''"
      ],
      "execution_count": 51,
      "outputs": [
        {
          "output_type": "execute_result",
          "data": {
            "application/vnd.google.colaboratory.intrinsic+json": {
              "type": "string"
            },
            "text/plain": [
              "'\\ntest = Chromosome()\\nprint(test.bit)\\nprint(test.x)\\nprint(test.y)\\n'"
            ]
          },
          "metadata": {
            "tags": []
          },
          "execution_count": 51
        }
      ]
    },
    {
      "cell_type": "markdown",
      "metadata": {
        "id": "PuPj9moFo2NJ"
      },
      "source": [
        "GA langkah 2 : membuat fungsi fitness untuk maximasi"
      ]
    },
    {
      "cell_type": "code",
      "metadata": {
        "id": "Dyps22TKm_1B"
      },
      "source": [
        "def f(x, y):\n",
        "  hasil = h(x,y)\n",
        "  if hasil < 0:\n",
        "    return abs(hasil) / 0.01\n",
        "  else:\n",
        "    return hasil"
      ],
      "execution_count": 65,
      "outputs": []
    },
    {
      "cell_type": "markdown",
      "metadata": {
        "id": "drRele-aqCg_"
      },
      "source": [
        "GA langkah 3 : membuat populasi , memeriksa apakah chromosome ada di populasi menggunakan linear search"
      ]
    },
    {
      "cell_type": "code",
      "metadata": {
        "id": "0TYRXVKACBCU"
      },
      "source": [
        "def exist(l, c):\n",
        "  found = False\n",
        "  for i in l:\n",
        "    if i.bit == c.bit:\n",
        "      found = True\n",
        "      break\n",
        "  return found"
      ],
      "execution_count": 53,
      "outputs": []
    },
    {
      "cell_type": "code",
      "metadata": {
        "colab": {
          "base_uri": "https://localhost:8080/"
        },
        "id": "3-oWK0IEnmpx",
        "outputId": "31beffc8-6d02-4047-b9ca-c5ac9b9a1565"
      },
      "source": [
        "populasi = []\n",
        "while len(populasi) != 15:\n",
        "  c = Chromosome()\n",
        "  \n",
        "  found = False\n",
        "  for i in populasi:\n",
        "    if i.bit == c.bit:\n",
        "      found = True\n",
        "      break\n",
        "\n",
        "  if not found:\n",
        "    populasi.append(c)\n",
        "\n",
        "for i in populasi:\n",
        "  print(i)"
      ],
      "execution_count": 54,
      "outputs": [
        {
          "output_type": "stream",
          "text": [
            "[0, 0, 1, 0, 1, 0, 1, 0, 0, 1] (-0.5161290322580645, -0.4193548387096775)\n",
            "[1, 0, 1, 0, 0, 1, 0, 0, 1, 0] (0.935483870967742, 0.16129032258064502)\n",
            "[1, 1, 0, 0, 0, 1, 0, 1, 1, 0] (1.32258064516129, 0.4193548387096775)\n",
            "[1, 1, 1, 1, 0, 0, 0, 1, 0, 0] (1.903225806451613, -0.7419354838709677)\n",
            "[0, 1, 1, 0, 0, 1, 0, 1, 1, 1] (0.16129032258064502, 0.4838709677419355)\n",
            "[1, 1, 1, 0, 1, 1, 1, 1, 1, 0] (1.8064516129032255, 0.935483870967742)\n",
            "[1, 0, 1, 0, 1, 0, 1, 0, 1, 1] (1.032258064516129, -0.29032258064516125)\n",
            "[1, 0, 0, 1, 0, 1, 0, 1, 1, 0] (0.7419354838709677, 0.4193548387096775)\n",
            "[0, 1, 0, 0, 1, 1, 1, 1, 0, 0] (-0.12903225806451613, 0.8064516129032258)\n",
            "[0, 1, 1, 0, 0, 1, 1, 0, 0, 0] (0.16129032258064502, 0.5483870967741935)\n",
            "[1, 1, 0, 1, 0, 0, 1, 0, 1, 0] (1.5161290322580645, -0.3548387096774194)\n",
            "[0, 0, 1, 0, 0, 0, 1, 1, 0, 0] (-0.6129032258064516, -0.22580645161290325)\n",
            "[0, 0, 1, 0, 0, 1, 1, 0, 0, 0] (-0.6129032258064516, 0.5483870967741935)\n",
            "[1, 1, 0, 1, 0, 1, 1, 0, 1, 1] (1.5161290322580645, 0.7419354838709677)\n",
            "[1, 0, 0, 1, 1, 0, 1, 0, 0, 0] (0.8387096774193548, -0.4838709677419355)\n"
          ],
          "name": "stdout"
        }
      ]
    },
    {
      "cell_type": "markdown",
      "metadata": {
        "id": "nBxULTzI1Wdn"
      },
      "source": [
        "Seleksi Orangtua"
      ]
    },
    {
      "cell_type": "code",
      "metadata": {
        "id": "_0oYMCSj1esG"
      },
      "source": [
        "def seleksi_orangtua(k):\n",
        "  orangtua = []\n",
        "  arr_fitness = list(map(lambda c: f(c.x, c.y), populasi))\n",
        "  arr_weight = [arr_fitness[i] / sum(arr_fitness) for i in range(len(populasi))]\n",
        "  while len(orangtua) != k:\n",
        "    kandidat = random.choices(populasi, weights=arr_weight)[0]\n",
        "    if not exist(orangtua, kandidat):\n",
        "      orangtua.append(kandidat)\n",
        "  return orangtua\n",
        "\n",
        "#orangtua = seleksi_orangtua(2)\n",
        "#for i in orangtua:\n",
        "#  print(i)"
      ],
      "execution_count": 55,
      "outputs": []
    },
    {
      "cell_type": "markdown",
      "metadata": {
        "id": "2PFpvlcf2ZqP"
      },
      "source": [
        "Crossover"
      ]
    },
    {
      "cell_type": "code",
      "metadata": {
        "id": "BTlq6h762fBw"
      },
      "source": [
        "def crossover(ortu1, ortu2):\n",
        "  posisi = random.randint(1, len(ortu1.bit) - 2)\n",
        "\n",
        "  bit_anak1 = ortu1.bit[:posisi] + ortu2.bit[posisi:]\n",
        "  bit_anak2 = ortu2.bit[:posisi] + ortu1.bit[posisi:]\n",
        "\n",
        "  rng_mutasi = random.uniform(0, 100)\n",
        "  if rng_mutasi > (100 - 0.5):\n",
        "    posisi_mutasi = random.randint(0, len(bit_anak1)-1)\n",
        "    if bit_anak1[posisi_mutasi] == 1:\n",
        "      bit_anak1[posisi_mutasi] = 0\n",
        "    else:\n",
        "      bit_anak1[posisi_mutasi] = 1\n",
        "\n",
        "  rng_mutasi = random.uniform(0, 100)\n",
        "  if rng_mutasi > (100 - 0.5):\n",
        "    posisi_mutasi = random.randint(0, len(bit_anak2)-1)\n",
        "    if bit_anak2[posisi_mutasi] == 1:\n",
        "      bit_anak2[posisi_mutasi] = 0\n",
        "    else:\n",
        "      bit_anak2[posisi_mutasi] = 1\n",
        "\n",
        "  populasi.append(Chromosome(bit_anak1))\n",
        "  populasi.append(Chromosome(bit_anak2))"
      ],
      "execution_count": 56,
      "outputs": []
    },
    {
      "cell_type": "code",
      "metadata": {
        "id": "VWNVN1y0AVYE"
      },
      "source": [
        "def seleksi_survivor():\n",
        "    populasi.sort(key=lambda c: h(c.x, c.y))\n",
        "\n",
        "    while len(populasi) != 50:\n",
        "        populasi.pop()"
      ],
      "execution_count": 57,
      "outputs": []
    },
    {
      "cell_type": "code",
      "metadata": {
        "colab": {
          "base_uri": "https://localhost:8080/"
        },
        "id": "nkIpzCwXApu1",
        "outputId": "26102e4b-6cbb-44ad-e443-3fd823c07def"
      },
      "source": [
        "populasi = []\n",
        "generasi = 1\n",
        "while len(populasi) != 50:\n",
        "    c = Chromosome()\n",
        "\n",
        "    if not exist(populasi, c):\n",
        "      populasi.append(c)\n",
        "    \n",
        "seleksi_survivor()\n",
        "print('generasi', generasi)\n",
        "print('fitness', populasi[0])\n",
        "\n",
        "while generasi < 25:\n",
        "  orangtua = seleksi_orangtua(2)\n",
        "  crossover(orangtua[0], orangtua[1])\n",
        "  seleksi_survivor()\n",
        "\n",
        "  generasi += 1\n",
        "  print('generasi', generasi)\n",
        "  print('fitness', populasi[0])\n",
        "  "
      ],
      "execution_count": 66,
      "outputs": [
        {
          "output_type": "stream",
          "text": [
            "generasi 1\n",
            "fitness [0, 0, 0, 0, 1, 0, 0, 1, 1, 0] (-0.9032258064516129, -0.6129032258064516)\n",
            "generasi 2\n",
            "fitness [0, 0, 0, 0, 1, 0, 0, 1, 1, 0] (-0.9032258064516129, -0.6129032258064516)\n",
            "generasi 3\n",
            "fitness [0, 0, 0, 0, 1, 0, 0, 1, 1, 0] (-0.9032258064516129, -0.6129032258064516)\n",
            "generasi 4\n",
            "fitness [0, 0, 0, 0, 1, 0, 0, 1, 1, 0] (-0.9032258064516129, -0.6129032258064516)\n",
            "generasi 5\n",
            "fitness [0, 0, 0, 0, 1, 0, 0, 1, 1, 0] (-0.9032258064516129, -0.6129032258064516)\n",
            "generasi 6\n",
            "fitness [0, 0, 0, 0, 1, 0, 0, 1, 1, 0] (-0.9032258064516129, -0.6129032258064516)\n",
            "generasi 7\n",
            "fitness [0, 0, 0, 0, 1, 0, 0, 1, 0, 1] (-0.9032258064516129, -0.6774193548387097)\n",
            "generasi 8\n",
            "fitness [0, 0, 0, 0, 1, 0, 0, 1, 0, 1] (-0.9032258064516129, -0.6774193548387097)\n",
            "generasi 9\n",
            "fitness [0, 0, 0, 0, 1, 0, 0, 1, 0, 1] (-0.9032258064516129, -0.6774193548387097)\n",
            "generasi 10\n",
            "fitness [0, 0, 0, 0, 1, 0, 0, 1, 0, 0] (-0.9032258064516129, -0.7419354838709677)\n",
            "generasi 11\n",
            "fitness [0, 0, 0, 0, 0, 0, 0, 1, 0, 0] (-1.0, -0.7419354838709677)\n",
            "generasi 12\n",
            "fitness [0, 0, 0, 0, 0, 0, 0, 1, 0, 0] (-1.0, -0.7419354838709677)\n",
            "generasi 13\n",
            "fitness [0, 0, 0, 0, 0, 0, 0, 1, 0, 0] (-1.0, -0.7419354838709677)\n",
            "generasi 14\n",
            "fitness [0, 0, 0, 0, 0, 0, 0, 1, 0, 0] (-1.0, -0.7419354838709677)\n",
            "generasi 15\n",
            "fitness [0, 0, 0, 0, 0, 0, 0, 1, 0, 0] (-1.0, -0.7419354838709677)\n",
            "generasi 16\n",
            "fitness [0, 0, 0, 0, 0, 0, 0, 1, 0, 0] (-1.0, -0.7419354838709677)\n",
            "generasi 17\n",
            "fitness [0, 0, 0, 0, 0, 0, 0, 1, 0, 0] (-1.0, -0.7419354838709677)\n",
            "generasi 18\n",
            "fitness [0, 0, 0, 0, 0, 0, 0, 1, 0, 0] (-1.0, -0.7419354838709677)\n",
            "generasi 19\n",
            "fitness [0, 0, 0, 0, 0, 0, 0, 1, 0, 0] (-1.0, -0.7419354838709677)\n",
            "generasi 20\n",
            "fitness [0, 0, 0, 0, 0, 0, 0, 1, 0, 0] (-1.0, -0.7419354838709677)\n",
            "generasi 21\n",
            "fitness [0, 0, 0, 0, 0, 0, 0, 1, 0, 0] (-1.0, -0.7419354838709677)\n",
            "generasi 22\n",
            "fitness [0, 0, 0, 0, 0, 0, 0, 1, 0, 0] (-1.0, -0.7419354838709677)\n",
            "generasi 23\n",
            "fitness [0, 0, 0, 0, 0, 0, 0, 1, 0, 0] (-1.0, -0.7419354838709677)\n",
            "generasi 24\n",
            "fitness [0, 0, 0, 0, 0, 0, 0, 1, 0, 0] (-1.0, -0.7419354838709677)\n",
            "generasi 25\n",
            "fitness [0, 0, 0, 0, 0, 0, 0, 1, 0, 0] (-1.0, -0.7419354838709677)\n"
          ],
          "name": "stdout"
        }
      ]
    }
  ]
}